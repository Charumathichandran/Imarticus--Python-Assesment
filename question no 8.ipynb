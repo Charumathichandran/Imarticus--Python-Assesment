{
 "cells": [
  {
   "cell_type": "code",
   "execution_count": 8,
   "id": "15ff7eb3",
   "metadata": {},
   "outputs": [
    {
     "name": "stdout",
     "output_type": "stream",
     "text": [
      "[9, 13.0, 28.333333333333332, 86.5, 347.0]\n"
     ]
    }
   ],
   "source": [
    "x=[9,8,7,6,5]\n",
    "import itertools as it\n",
    "a=[]\n",
    "a=it.accumulate(list(enumerate(x)),lambda m,n:(n[0],m[1]*(m[0]+1)+n[1]/(n[0]+1)))\n",
    "print(list(map(lambda m:m[1],a)))\n"
   ]
  },
  {
   "cell_type": "code",
   "execution_count": null,
   "id": "7c4aa3d6",
   "metadata": {},
   "outputs": [],
   "source": []
  }
 ],
 "metadata": {
  "kernelspec": {
   "display_name": "Python 3 (ipykernel)",
   "language": "python",
   "name": "python3"
  },
  "language_info": {
   "codemirror_mode": {
    "name": "ipython",
    "version": 3
   },
   "file_extension": ".py",
   "mimetype": "text/x-python",
   "name": "python",
   "nbconvert_exporter": "python",
   "pygments_lexer": "ipython3",
   "version": "3.9.7"
  }
 },
 "nbformat": 4,
 "nbformat_minor": 5
}
