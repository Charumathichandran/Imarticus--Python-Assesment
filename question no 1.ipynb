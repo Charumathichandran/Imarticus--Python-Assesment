{
 "cells": [
  {
   "cell_type": "code",
   "execution_count": 3,
   "id": "d7792ae1",
   "metadata": {},
   "outputs": [
    {
     "name": "stdout",
     "output_type": "stream",
     "text": [
      "['He is a good boy', 'He is an awesome player', 'She is the best', 'These burger are really nice']\n",
      "['Food is the worst here', 'This pizza tastes awful']\n"
     ]
    }
   ],
   "source": [
    "positive=['good','awesome','best','nice']\n",
    "negative=['worst','awful']\n",
    "comments=['He is a good boy','Food is the worst here','He is an awesome player','She is the best','This pizza tastes awful','These burger are really nice']\n",
    "\n",
    "p=[]\n",
    "n=[]\n",
    "for x in comments:\n",
    "    words=x.split()\n",
    "    for y in words:\n",
    "        if y in positive:\n",
    "            p.append(x)\n",
    "        if y in negative:\n",
    "            n.append(x)\n",
    "print(p)      \n",
    "print(n)"
   ]
  },
  {
   "cell_type": "code",
   "execution_count": null,
   "id": "141b28ba",
   "metadata": {},
   "outputs": [],
   "source": []
  }
 ],
 "metadata": {
  "kernelspec": {
   "display_name": "Python 3 (ipykernel)",
   "language": "python",
   "name": "python3"
  },
  "language_info": {
   "codemirror_mode": {
    "name": "ipython",
    "version": 3
   },
   "file_extension": ".py",
   "mimetype": "text/x-python",
   "name": "python",
   "nbconvert_exporter": "python",
   "pygments_lexer": "ipython3",
   "version": "3.9.7"
  }
 },
 "nbformat": 4,
 "nbformat_minor": 5
}
