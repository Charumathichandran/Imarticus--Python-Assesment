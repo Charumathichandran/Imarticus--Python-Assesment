{
 "cells": [
  {
   "cell_type": "code",
   "execution_count": 12,
   "id": "1f560074",
   "metadata": {},
   "outputs": [
    {
     "name": "stdout",
     "output_type": "stream",
     "text": [
      "['hOw', 'aRe']\n"
     ]
    }
   ],
   "source": [
    "ls=[\"hello\",\"Dear\",\"hOw\",\"aRe\",\"you\"]\n",
    "x=[]\n",
    "for i in ls:\n",
    "        if i[1].isupper():\n",
    "            x.append(i)\n",
    "print(x)        "
   ]
  }
 ],
 "metadata": {
  "kernelspec": {
   "display_name": "Python 3 (ipykernel)",
   "language": "python",
   "name": "python3"
  },
  "language_info": {
   "codemirror_mode": {
    "name": "ipython",
    "version": 3
   },
   "file_extension": ".py",
   "mimetype": "text/x-python",
   "name": "python",
   "nbconvert_exporter": "python",
   "pygments_lexer": "ipython3",
   "version": "3.9.7"
  }
 },
 "nbformat": 4,
 "nbformat_minor": 5
}
