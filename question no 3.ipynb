{
 "cells": [
  {
   "cell_type": "code",
   "execution_count": 5,
   "id": "674ec94f",
   "metadata": {},
   "outputs": [
    {
     "name": "stdout",
     "output_type": "stream",
     "text": [
      "Sour Fruits : ['Lemon', 'Grapes', 'Kiwi', 'Orange', 'Limes']\n"
     ]
    }
   ],
   "source": [
    "fruits=(('Lemon','sour'),\n",
    "        ('DragonFruit','Sweet'),\n",
    "        ('Grapes','soUr'),\n",
    "        ('Kiwi','Sour'),\n",
    "        ('Apples','sweet'),\n",
    "        ('Orange','sour'),\n",
    "        ('Blueberries','sweet'),\n",
    "        ('Limes','Sour'))\n",
    "fruits=list(fruits)\n",
    "a=[]\n",
    "for x in fruits:\n",
    "        if x[1].lower()==\"sour\":\n",
    "            a.append(x[0])\n",
    "print(\"Sour Fruits :\",a)\n"
   ]
  },
  {
   "cell_type": "code",
   "execution_count": null,
   "id": "bee1fc7a",
   "metadata": {},
   "outputs": [],
   "source": []
  }
 ],
 "metadata": {
  "kernelspec": {
   "display_name": "Python 3 (ipykernel)",
   "language": "python",
   "name": "python3"
  },
  "language_info": {
   "codemirror_mode": {
    "name": "ipython",
    "version": 3
   },
   "file_extension": ".py",
   "mimetype": "text/x-python",
   "name": "python",
   "nbconvert_exporter": "python",
   "pygments_lexer": "ipython3",
   "version": "3.9.7"
  }
 },
 "nbformat": 4,
 "nbformat_minor": 5
}
